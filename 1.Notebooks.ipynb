{
 "cells": [
  {
   "cell_type": "markdown",
   "id": "dbce1cfc",
   "metadata": {},
   "source": [
    "# Assignment 1"
   ]
  },
  {
   "cell_type": "markdown",
   "id": "a9cb163a",
   "metadata": {},
   "source": [
    "* Alyssa Hoffecker\n",
    "* January 19, 2024"
   ]
  },
  {
   "cell_type": "markdown",
   "id": "dacdcb49",
   "metadata": {},
   "source": [
    "## Markdown Exercises\n",
    "**Why are you or are you not interested in machine learning?**\n",
    "\n",
    "I am very interested in this topic due to the increasing field that comes with it. Before, in high school, when I heard of AI and machine learning, not only did I not understand what it was and what was meant by the terms, I had no idea that we would get to the point that were at today, much less in a few years. I am so interested in our ability to use computers in this way and am very excited to see what this course has to offer. As a student looking to enter the workforce soon, I know these will be useful skills.\n",
    "\n",
    "**Make a Markdown list of 3--5 things you'd like to learn from this course.**\n",
    "* Understand how AI actually *learns*\n",
    "* Investigate the potential *downfalls* of our current usages of machine learning\n",
    "* What data can be used and what can be overlooked"
   ]
  },
  {
   "cell_type": "markdown",
   "id": "23bc586a",
   "metadata": {},
   "source": [
    "\n",
    "![alt text](https://media.giphy.com/media/9jvjuSSkMOYTyQfJji/giphy.gif)"
   ]
  },
  {
   "cell_type": "markdown",
   "id": "affccd0a",
   "metadata": {},
   "source": [
    "## Jupyter Notebook Exercises"
   ]
  },
  {
   "cell_type": "code",
   "execution_count": 2,
   "id": "e22bcb6f",
   "metadata": {},
   "outputs": [
    {
     "name": "stdout",
     "output_type": "stream",
     "text": [
      "What is your name? Alyssa Hoffecker\n",
      "Hello Alyssa Hoffecker !\n"
     ]
    }
   ],
   "source": [
    "name = input(prompt=\"What is your name? \")\n",
    "print(\"Hello\", name, \"!\")"
   ]
  },
  {
   "cell_type": "code",
   "execution_count": null,
   "id": "b83c65ae",
   "metadata": {},
   "outputs": [],
   "source": []
  }
 ],
 "metadata": {
  "kernelspec": {
   "display_name": "Python 3 (ipykernel)",
   "language": "python",
   "name": "python3"
  },
  "language_info": {
   "codemirror_mode": {
    "name": "ipython",
    "version": 3
   },
   "file_extension": ".py",
   "mimetype": "text/x-python",
   "name": "python",
   "nbconvert_exporter": "python",
   "pygments_lexer": "ipython3",
   "version": "3.11.5"
  }
 },
 "nbformat": 4,
 "nbformat_minor": 5
}
